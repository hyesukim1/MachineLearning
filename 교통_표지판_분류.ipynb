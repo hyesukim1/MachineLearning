{
  "nbformat": 4,
  "nbformat_minor": 0,
  "metadata": {
    "colab": {
      "name": "교통 표지판 분류.ipynb",
      "private_outputs": true,
      "provenance": [],
      "authorship_tag": "ABX9TyNwxdN8o53EnqfkX9t/rDb/",
      "include_colab_link": true
    },
    "kernelspec": {
      "name": "python3",
      "display_name": "Python 3"
    },
    "language_info": {
      "name": "python"
    }
  },
  "cells": [
    {
      "cell_type": "markdown",
      "metadata": {
        "id": "view-in-github",
        "colab_type": "text"
      },
      "source": [
        "<a href=\"https://colab.research.google.com/github/hyesukim1/MachineLearning/blob/main/%EA%B5%90%ED%86%B5_%ED%91%9C%EC%A7%80%ED%8C%90_%EB%B6%84%EB%A5%98.ipynb\" target=\"_parent\"><img src=\"https://colab.research.google.com/assets/colab-badge.svg\" alt=\"Open In Colab\"/></a>"
      ]
    },
    {
      "cell_type": "code",
      "execution_count": null,
      "metadata": {
        "id": "WGtYfc-QEtQI"
      },
      "outputs": [],
      "source": [
        "!pip install kaggle # 케글 데이터 설치\n",
        "from google.colab import files\n",
        "files.upload()"
      ]
    },
    {
      "cell_type": "code",
      "source": [
        "!mkdir -p ~/.kaggle # 케글 파일 만들기\n",
        "!cp kaggle.json ~/.kaggle/\n",
        "# Permission Warning 이 일어나지 않도록 \n",
        "!chmod 600 ~/.kaggle/kaggle.json"
      ],
      "metadata": {
        "id": "JjOAChk_XpvY"
      },
      "execution_count": null,
      "outputs": []
    },
    {
      "cell_type": "code",
      "source": [
        "ls -1ha kaggle.json # 케글 제이슨 파일 제대로 설치 됬는지 확인"
      ],
      "metadata": {
        "id": "05mZVtf4amyA"
      },
      "execution_count": null,
      "outputs": []
    },
    {
      "cell_type": "code",
      "source": [
        "! kaggle competitions list"
      ],
      "metadata": {
        "id": "X1mqH_QKao74"
      },
      "execution_count": null,
      "outputs": []
    },
    {
      "cell_type": "code",
      "source": [
        "! kaggle datasets download -d meowmeowmeowmeowmeow/gtsrb-german-traffic-sign"
      ],
      "metadata": {
        "id": "Br_4WBomarcV"
      },
      "execution_count": null,
      "outputs": []
    },
    {
      "cell_type": "code",
      "source": [
        "!unzip gtsrb-german-traffic-sign.zip # zip 파일 풀기"
      ],
      "metadata": {
        "id": "YUknrd_XCk0M"
      },
      "execution_count": null,
      "outputs": []
    },
    {
      "cell_type": "code",
      "source": [
        "import pandas as pd\n",
        "import numpy as np\n",
        "import os\n",
        "import cv2 #영상처리에 사용하는 오픈소스 라이브러리, 컴퓨터가 사람 눈처럼 인식할 수 있게 처리\n",
        "import matplotlib.pyplot as plt\n",
        "import tensorflow as tf\n",
        "from tensorflow import keras\n",
        "from PIL import Image # 파이썬 이미지 처리 pillow 라이브러리\n",
        "from sklearn.model_selection import train_test_split\n",
        "from tensorflow.keras.preprocessing.image import ImageDataGenerator #imagedatagenerater는 이미지를 학습시킬 때 학습 데이터의 양이 적을 경우 학습데이터를 조금씩 변형 시켜서 학습데이터의 양을 늘리는 방식중 하나\n",
        "from tensorflow.keras.optimizers import Adam\n",
        "from sklearn.metrics import accuracy_score\n",
        "import pathlib\n",
        "from tensorflow.keras.preprocessing.image import img_to_array, array_to_img, load_img\n",
        "\n",
        "np.random.seed(42)\n",
        "\n",
        "from matplotlib import style\n",
        "style.use('fivethirtyeight')"
      ],
      "metadata": {
        "id": "x6ycKe3VD4mr"
      },
      "execution_count": null,
      "outputs": []
    },
    {
      "cell_type": "code",
      "source": [
        "data_dir = pathlib.Path('/content/Meta')\n",
        "train_path = pathlib.Path('/content/Train')\n",
        "test_path = pathlib.Path('/content/Test')\n",
        "\n",
        "# 전처리: 이미지 별로 사이즈가 다르기 때문에 이미지의 폭과 높이를 같은 크기로 통일\n",
        "IMG_HEGHT = 30\n",
        "IMG_WIDTH = 30\n",
        "channels = 3"
      ],
      "metadata": {
        "id": "oXQcMJ0fDwDz"
      },
      "execution_count": null,
      "outputs": []
    },
    {
      "cell_type": "code",
      "source": [
        "# 카테고리 수 확인\n",
        "NUM_CATEGORIES = len(os.listdir(train_path))\n",
        "NUM_CATEGORIES"
      ],
      "metadata": {
        "id": "45O4JiHqEM9H"
      },
      "execution_count": null,
      "outputs": []
    },
    {
      "cell_type": "code",
      "source": [
        "os.listdir()"
      ],
      "metadata": {
        "id": "VqI1iFxbUgd6"
      },
      "execution_count": null,
      "outputs": []
    },
    {
      "cell_type": "code",
      "source": [
        "# Visualizing all the different Signs\n",
        "img_dir = pathlib.Path('/content/train')\n",
        "plt.figure(figsize=(14,14))\n",
        "index = 0\n",
        "for i in range(NUM_CATEGORIES):\n",
        "    plt.subplot(7, 7, i+1)\n",
        "    plt.grid(False)\n",
        "    plt.xticks([])\n",
        "    plt.yticks([])\n",
        "    sign = list(img_dir.glob(f'{i}/*'))[0]\n",
        "    img = load_img(sign, target_size=(30, 30))\n",
        "    plt.imshow(img)\n",
        "plt.show()"
      ],
      "metadata": {
        "id": "MWi0vwdIb1Ue"
      },
      "execution_count": null,
      "outputs": []
    },
    {
      "cell_type": "code",
      "source": [
        "# Label Overview\n",
        "classes = { 0:'Speed limit (20km/h)',\n",
        "            1:'Speed limit (30km/h)', \n",
        "            2:'Speed limit (50km/h)', \n",
        "            3:'Speed limit (60km/h)', \n",
        "            4:'Speed limit (70km/h)', \n",
        "            5:'Speed limit (80km/h)', \n",
        "            6:'End of speed limit (80km/h)', \n",
        "            7:'Speed limit (100km/h)', \n",
        "            8:'Speed limit (120km/h)', \n",
        "            9:'No passing', \n",
        "            10:'No passing veh over 3.5 tons', \n",
        "            11:'Right-of-way at intersection', \n",
        "            12:'Priority road', \n",
        "            13:'Yield', \n",
        "            14:'Stop', \n",
        "            15:'No vehicles', \n",
        "            16:'Veh > 3.5 tons prohibited', \n",
        "            17:'No entry', \n",
        "            18:'General caution', \n",
        "            19:'Dangerous curve left', \n",
        "            20:'Dangerous curve right', \n",
        "            21:'Double curve', \n",
        "            22:'Bumpy road', \n",
        "            23:'Slippery road', \n",
        "            24:'Road narrows on the right', \n",
        "            25:'Road work', \n",
        "            26:'Traffic signals', \n",
        "            27:'Pedestrians', \n",
        "            28:'Children crossing', \n",
        "            29:'Bicycles crossing', \n",
        "            30:'Beware of ice/snow',\n",
        "            31:'Wild animals crossing', \n",
        "            32:'End speed + passing limits', \n",
        "            33:'Turn right ahead', \n",
        "            34:'Turn left ahead', \n",
        "            35:'Ahead only', \n",
        "            36:'Go straight or right', \n",
        "            37:'Go straight or left', \n",
        "            38:'Keep right', \n",
        "            39:'Keep left', \n",
        "            40:'Roundabout mandatory', \n",
        "            41:'End of no passing', \n",
        "            42:'End no passing veh > 3.5 tons' }"
      ],
      "metadata": {
        "id": "kLLKRHZ1bvE3"
      },
      "execution_count": null,
      "outputs": []
    },
    {
      "cell_type": "code",
      "source": [
        "folders = os.listdir('/content/train')\n",
        "\n",
        "train_number = []\n",
        "class_num = []\n",
        "\n",
        "for folder in folders:\n",
        "  train_files = os.listdir(str(train_path) + '/'+ folder)\n",
        "  train_number.append(len(train_files))\n",
        "  class_num.append(classes[int(folder)])\n",
        "\n",
        "# 각각의 클래스의 이미지의 수에 기초해 데이터셋 분류하기\n",
        "\n",
        "zipped_lists =  zip(train_number, class_num)\n",
        "sorted_pairs = sorted(zipped_lists)\n",
        "tuples =  zip(*sorted_pairs)\n",
        "train_number, class_num = [ list(tuple) for tuple in tuples]\n",
        "\n",
        "# 시각화\n",
        "plt.figure(figsize = (21, 10))\n",
        "plt.bar(class_num, train_number)\n",
        "plt.xticks(class_num, rotation='vertical')\n",
        "plt.show()"
      ],
      "metadata": {
        "id": "ZeH9svW8bx-z"
      },
      "execution_count": null,
      "outputs": []
    },
    {
      "cell_type": "code",
      "source": [
        "def load_data(data_dir):\n",
        "    '''\n",
        "    Loading data from Train folder.\n",
        "    \n",
        "    Returns a tuple `(images, labels)` , where `images` is a list of all the images in the train directory,\n",
        "    where each image is formatted as a numpy ndarray with dimensions IMG_WIDTH x IMG_HEIGHT x 3. \n",
        "    `labels` is a list of integer labels, representing the categories for each of the\n",
        "    corresponding `images`.\n",
        "    '''\n",
        "    images = list()\n",
        "    labels = list()\n",
        "    for category in range(NUM_CATEGORIES):\n",
        "        categories = os.path.join(data_dir, str(category))\n",
        "        for img in os.listdir(categories):\n",
        "            img = load_img(os.path.join(categories, img), target_size=(30, 30))\n",
        "            image = img_to_array(img)\n",
        "            images.append(image)\n",
        "            labels.append(category)\n",
        "    \n",
        "    return images, labels"
      ],
      "metadata": {
        "id": "CCx_RiINmg_s"
      },
      "execution_count": null,
      "outputs": []
    },
    {
      "cell_type": "code",
      "source": [
        "from tensorflow.keras.utils import to_categorical\n",
        "images, labels = load_data(train_path)\n",
        "\n",
        "# One hot encoding the labels\n",
        "labels = to_categorical(labels)\n",
        "\n",
        "# Splitting the dataset into training and test set\n",
        "x_train, x_test, y_train, y_test = train_test_split(np.array(images), labels, test_size=0.4)"
      ],
      "metadata": {
        "id": "o5_KniS7q_j4"
      },
      "execution_count": null,
      "outputs": []
    },
    {
      "cell_type": "code",
      "source": [
        "import os\n",
        "import pathlib\n",
        "import numpy as np\n",
        "import matplotlib.pyplot as plt\n",
        "from sklearn.model_selection import train_test_split\n",
        "from tensorflow.keras.preprocessing import image\n",
        "from tensorflow.keras.preprocessing.image import ImageDataGenerator, img_to_array, array_to_img, load_img\n",
        "from tensorflow.keras.utils import to_categorical\n",
        "from tensorflow.keras.layers import Conv2D, MaxPool2D, Dense, Flatten, Dropout\n",
        "from tensorflow.keras.models import Sequential\n",
        "\n",
        "%matplotlib inline"
      ],
      "metadata": {
        "id": "IXedvSLC1MNH"
      },
      "execution_count": null,
      "outputs": []
    },
    {
      "cell_type": "code",
      "source": [
        "model = Sequential()\n",
        "\n",
        "IMG_HEIGHT = 30\n",
        "IMG_WIDTH = 30\n",
        "\n",
        "# First Convolutional Layer\n",
        "model.add(Conv2D(filters=32, kernel_size=3, activation='relu', input_shape=(IMG_HEIGHT,IMG_WIDTH,3)))\n",
        "model.add(MaxPool2D(pool_size=(2, 2)))\n",
        "model.add(Dropout(rate=0.25))\n",
        "\n",
        "# Second Convolutional Layer\n",
        "model.add(Conv2D(filters=64, kernel_size=3, activation='relu'))\n",
        "model.add(MaxPool2D(pool_size=(2, 2)))\n",
        "model.add(Dropout(rate=0.25))\n",
        "\n",
        "# Third Convolutional Layer\n",
        "model.add(Conv2D(filters=64, kernel_size=3, activation='relu'))\n",
        "\n",
        "model.summary()"
      ],
      "metadata": {
        "id": "81I7SQQL0-59"
      },
      "execution_count": null,
      "outputs": []
    },
    {
      "cell_type": "code",
      "source": [
        "# Flattening the layer and adding Dense Layer\n",
        "model.add(Flatten())\n",
        "model.add(Dense(units=64, activation='relu'))\n",
        "model.add(Dense(NUM_CATEGORIES, activation='softmax'))\n",
        "\n",
        "model.summary()"
      ],
      "metadata": {
        "id": "XRaDV-TA15FD"
      },
      "execution_count": null,
      "outputs": []
    },
    {
      "cell_type": "code",
      "source": [
        "# Compiling the model\n",
        "model.compile(\n",
        "    loss='categorical_crossentropy',\n",
        "    optimizer='adam',\n",
        "    metrics=['accuracy']\n",
        ")"
      ],
      "metadata": {
        "id": "GeAZ1AzG6NOd"
      },
      "execution_count": null,
      "outputs": []
    },
    {
      "cell_type": "code",
      "source": [
        "# Fitting the model\n",
        "EPOCHS = 30\n",
        "history = model.fit(x_train, \n",
        "                    y_train,\n",
        "                    validation_data = (x_test, y_test), \n",
        "                    epochs=EPOCHS, \n",
        "                    steps_per_epoch=60\n",
        "                   )"
      ],
      "metadata": {
        "id": "-JPWSmaR6QVE"
      },
      "execution_count": null,
      "outputs": []
    },
    {
      "cell_type": "code",
      "source": [
        "loss, accuracy = model.evaluate(x_test, y_test)\n",
        "\n",
        "print('test set accuracy: ', accuracy * 100)"
      ],
      "metadata": {
        "id": "fFoc_q3r6UZd"
      },
      "execution_count": null,
      "outputs": []
    },
    {
      "cell_type": "code",
      "source": [
        "Y_test = pd.read_csv('/content/Test.csv')\n",
        "\n",
        "Y_test"
      ],
      "metadata": {
        "id": "QzoKzVXlEKYq"
      },
      "execution_count": null,
      "outputs": []
    },
    {
      "cell_type": "code",
      "source": [
        "test_images = Y_test[\"Path\"].values\n",
        "a =  pathlib.Path('/content/Test')\n",
        "image = load_img('/content/Test/12625.png', target_size=(30, 30))\n",
        "image"
      ],
      "metadata": {
        "id": "r08dZrkSeHTN"
      },
      "execution_count": null,
      "outputs": []
    },
    {
      "cell_type": "code",
      "source": [
        "from sklearn.metrics import accuracy_score\n",
        "import pandas as pd\n",
        "\n",
        "Y_test = pd.read_csv('/content/Test.csv')\n",
        "test_labels = Y_test[\"ClassId\"].values\n",
        "test_images = Y_test[\"Path\"].values\n",
        "\n",
        "a =  pathlib.Path('/content/')\n",
        "\n",
        "output = list()\n",
        "for img in test_images:\n",
        "    image = load_img(os.path.join(a, img), target_size=(30, 30))\n",
        "    output.append(np.array(image))\n",
        "\n",
        "X_test=np.array(output)\n",
        "y_prob = model.predict(X_test)\n",
        "pred = y_prob.argmax(axis=-1)\n",
        "\n",
        "#Accuracy with the test data\n",
        "print('Test Data accuracy: ',accuracy_score(test_labels, pred)*100)"
      ],
      "metadata": {
        "id": "ZOLnfX5e-SXJ"
      },
      "execution_count": null,
      "outputs": []
    },
    {
      "cell_type": "code",
      "source": [
        "plt.figure(figsize = (13, 13))\n",
        "\n",
        "start_index = 0\n",
        "for i in range(25):\n",
        "    plt.subplot(5, 5, i + 1)\n",
        "    plt.grid(False)\n",
        "    plt.xticks([])\n",
        "    plt.yticks([])\n",
        "    prediction = pred[start_index + i]\n",
        "    actual = test_labels[start_index + i]\n",
        "    col = 'g'\n",
        "    if prediction != actual:\n",
        "        col = 'r'\n",
        "    plt.xlabel('Actual={} || Pred={}'.format(actual, prediction), color = col)\n",
        "    plt.imshow(X_test[start_index + i])\n",
        "plt.show()"
      ],
      "metadata": {
        "id": "WXACGRWO-YC-"
      },
      "execution_count": null,
      "outputs": []
    }
  ]
}